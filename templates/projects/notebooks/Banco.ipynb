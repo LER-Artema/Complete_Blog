{
 "cells": [
  {
   "cell_type": "markdown",
   "source": [
    "### Modelo predictivo que muestra la probabilidad de que un CLIENTE retire el 70% o más de su saldo en los siguientes 3 meses\n",
    "-Primer paso Se realiza la lectura de los saldos y se busca estandarizar la información para un manejo más sencillo de los datos. Realizamos una agrupación a nivel ID del cliente para saber su saldo, qué contratos y que productos tiene activos, incluyendo el historial de su saldo mensual"
   ],
   "metadata": {
    "collapsed": false
   },
   "id": "adc2036063058488"
  },
  {
   "cell_type": "code",
   "outputs": [
    {
     "name": "stdout",
     "output_type": "stream",
     "text": [
      "<class 'pandas.core.frame.DataFrame'>\n",
      "Index: 197217 entries, 0 to 201519\n",
      "Data columns (total 26 columns):\n",
      " #   Column        Non-Null Count   Dtype  \n",
      "---  ------        --------------   -----  \n",
      " 0   TipoDocum     197217 non-null  object \n",
      " 1   SALDO_202101  197217 non-null  float64\n",
      " 2   SALDO_2021O2  197217 non-null  float64\n",
      " 3   SALDO_2021O3  197217 non-null  float64\n",
      " 4   SALDO_2021O4  197217 non-null  float64\n",
      " 5   SALDO_2021O5  197217 non-null  float64\n",
      " 6   SALDO_2021O6  197217 non-null  float64\n",
      " 7   SALDO_2021O7  197217 non-null  float64\n",
      " 8   SALDO_2021O8  197217 non-null  float64\n",
      " 9   SALDO_2021O9  197217 non-null  float64\n",
      " 10  SALDO_202110  197217 non-null  float64\n",
      " 11  SALDO_202111  197217 non-null  float64\n",
      " 12  SALDO_202112  197217 non-null  float64\n",
      " 13  SALDO_202201  197217 non-null  float64\n",
      " 14  SALDO_202202  197217 non-null  float64\n",
      " 15  SALDO_202203  197217 non-null  float64\n",
      " 16  SALDO_202204  197217 non-null  float64\n",
      " 17  SALDO_202205  197217 non-null  float64\n",
      " 18  SALDO_202206  197217 non-null  float64\n",
      " 19  SALDO_202207  197217 non-null  float64\n",
      " 20  SALDO_202208  197217 non-null  float64\n",
      " 21  SALDO_202209  197217 non-null  float64\n",
      " 22  SALDO_202210  197217 non-null  float64\n",
      " 23  Contrato      197217 non-null  int64  \n",
      " 24  PlanProducto  197217 non-null  int64  \n",
      " 25  NroDocum      197217 non-null  int64  \n",
      "dtypes: float64(22), int64(3), object(1)\n",
      "memory usage: 40.6+ MB\n"
     ]
    }
   ],
   "source": [
    "import pyarrow.parquet as pq\n",
    "import pandas as pd\n",
    "import re\n",
    "import numpy as np\n",
    "from sklearn.linear_model import LinearRegression\n",
    "import math\n",
    "\n",
    "saldos = pq.read_table('0saldos.parquet').to_pandas()\n",
    "saldos = saldos.loc[saldos['TipoDocum'] == 'C ']\n",
    "saldos.info()"
   ],
   "metadata": {
    "collapsed": false,
    "ExecuteTime": {
     "end_time": "2024-04-15T05:27:11.449066Z",
     "start_time": "2024-04-15T05:27:11.196728Z"
    }
   },
   "id": "8ffd8a9a75d47885",
   "execution_count": 726
  },
  {
   "cell_type": "markdown",
   "source": [
    "Detección de valores NaN"
   ],
   "metadata": {
    "collapsed": false
   },
   "id": "30e5fba140ba2981"
  },
  {
   "cell_type": "code",
   "outputs": [
    {
     "data": {
      "text/plain": "TipoDocum       0\nSALDO_202101    0\nSALDO_2021O2    0\nSALDO_2021O3    0\nSALDO_2021O4    0\nSALDO_2021O5    0\nSALDO_2021O6    0\nSALDO_2021O7    0\nSALDO_2021O8    0\nSALDO_2021O9    0\nSALDO_202110    0\nSALDO_202111    0\nSALDO_202112    0\nSALDO_202201    0\nSALDO_202202    0\nSALDO_202203    0\nSALDO_202204    0\nSALDO_202205    0\nSALDO_202206    0\nSALDO_202207    0\nSALDO_202208    0\nSALDO_202209    0\nSALDO_202210    0\nContrato        0\nPlanProducto    0\nNroDocum        0\ndtype: int64"
     },
     "execution_count": 727,
     "metadata": {},
     "output_type": "execute_result"
    }
   ],
   "source": [
    "saldos.isna().sum()"
   ],
   "metadata": {
    "collapsed": false,
    "ExecuteTime": {
     "end_time": "2024-04-15T05:27:11.449859Z",
     "start_time": "2024-04-15T05:27:11.301515Z"
    }
   },
   "id": "2fa53dc47ce5416a",
   "execution_count": 727
  },
  {
   "cell_type": "code",
   "outputs": [],
   "source": [
    "\n",
    "# Agrupamos por MultiIndex los datos por cliente\n",
    "saldos.set_index(['NroDocum', 'Contrato', 'PlanProducto'], inplace=True)\n",
    "regex = re.compile(r'^SALDO')\n",
    "columnas_a_descartar = [columna for columna in saldos.columns if regex.match(columna)]\n"
   ],
   "metadata": {
    "collapsed": false,
    "ExecuteTime": {
     "end_time": "2024-04-15T05:27:11.593447Z",
     "start_time": "2024-04-15T05:27:11.415593Z"
    }
   },
   "id": "36674d6e8e86ad18",
   "execution_count": 728
  },
  {
   "cell_type": "code",
   "outputs": [
    {
     "name": "stdout",
     "output_type": "stream",
     "text": [
      "<class 'pandas.core.frame.DataFrame'>\n",
      "MultiIndex: 36131 entries, (1070499713, 6283724, 3376) to (1133162696, 7738006, 5172)\n",
      "Data columns (total 4 columns):\n",
      " #   Column            Non-Null Count  Dtype  \n",
      "---  ------            --------------  -----  \n",
      " 0   TipoDocum         36131 non-null  object \n",
      " 1   total             36131 non-null  float64\n",
      " 2   mediaSaldo        36131 non-null  float64\n",
      " 3   posiblesPerdidas  36131 non-null  float64\n",
      "dtypes: float64(3), object(1)\n",
      "memory usage: 11.8+ MB\n"
     ]
    }
   ],
   "source": [
    "def perdidas(matrix):\n",
    "    # Compare the last element with all other elements in the row (excluding the last one)\n",
    "    results = [  np.max(matrix[i][matrix[i] > 0][-4:] ) - np.max(matrix[i][matrix[i] > 0][-1] ) for i in range(matrix.shape[0])]\n",
    "    \n",
    "    # Convert the list of results to a column vector\n",
    "    result_array = np.array(results).reshape(-1, 1)\n",
    "    return result_array\n",
    "\n",
    "saldos['SALDO_202209'] = (saldos['SALDO_202208'] + saldos['SALDO_202210']) / 2\n",
    "# Filtrar las columnas que coinciden con el regex\n",
    "# Sumar las columnas\n",
    "\n",
    "saldos['total'] = saldos.filter(regex=regex).sum(axis=1)\n",
    "saldos['mediaSaldo'] = saldos.filter(regex=regex).mean(axis=1)\n",
    "\n",
    "saldos = saldos.loc[saldos['total'] > 0]\n",
    "\n",
    "saldos_array = []\n",
    "for i in saldos.filter(regex=regex).columns:\n",
    "    if len(saldos_array) >= 1:\n",
    "        saldos_array[0] = np.hstack([saldos_array[0], np.array(saldos[i].values).reshape(len(saldos[i].values), 1)])\n",
    "    else:\n",
    "\n",
    "        saldos_array.append(np.array(saldos[i].values).reshape(len(saldos[i].values), 1))\n",
    "\n",
    "saldos['posiblesPerdidas'] =perdidas(saldos_array[0])\n",
    "\n",
    "saldos.drop(columns=saldos.filter(regex=regex).columns, axis=1, inplace=True)\n",
    "saldos.info()\n"
   ],
   "metadata": {
    "collapsed": false,
    "ExecuteTime": {
     "end_time": "2024-04-15T05:27:11.859348Z",
     "start_time": "2024-04-15T05:27:11.526880Z"
    }
   },
   "id": "e61dae356fc625fc",
   "execution_count": 729
  },
  {
   "cell_type": "code",
   "outputs": [
    {
     "name": "stdout",
     "output_type": "stream",
     "text": [
      "<class 'pandas.core.frame.DataFrame'>\n",
      "Index: 23412 entries, 10359 to 9999898\n",
      "Data columns (total 2 columns):\n",
      " #   Column                Non-Null Count  Dtype  \n",
      "---  ------                --------------  -----  \n",
      " 0   ValorTransaccion      23412 non-null  float64\n",
      " 1   NumberOfTransactions  23412 non-null  int64  \n",
      "dtypes: float64(1), int64(1)\n",
      "memory usage: 548.7 KB\n",
      "None\n"
     ]
    },
    {
     "data": {
      "text/plain": "         ValorTransaccion  NumberOfTransactions    Users\nUser                                                    \n10359       -2.400000e+04                     5    10359\n11135        1.514032e+08                     1    11135\n11486        4.206700e+06                     1    11486\n11595        5.200000e+06                    23    11595\n11989       -5.500000e+07                     1    11989\n...                   ...                   ...      ...\n9998936      4.387500e+08                     1  9998936\n9999584      1.449000e+07                     4  9999584\n9999852     -3.300900e+07                     1  9999852\n9999884     -3.338484e+07                     1  9999884\n9999898      5.333333e+06                     3  9999898\n\n[23412 rows x 3 columns]",
      "text/html": "<div>\n<style scoped>\n    .dataframe tbody tr th:only-of-type {\n        vertical-align: middle;\n    }\n\n    .dataframe tbody tr th {\n        vertical-align: top;\n    }\n\n    .dataframe thead th {\n        text-align: right;\n    }\n</style>\n<table border=\"1\" class=\"dataframe\">\n  <thead>\n    <tr style=\"text-align: right;\">\n      <th></th>\n      <th>ValorTransaccion</th>\n      <th>NumberOfTransactions</th>\n      <th>Users</th>\n    </tr>\n    <tr>\n      <th>User</th>\n      <th></th>\n      <th></th>\n      <th></th>\n    </tr>\n  </thead>\n  <tbody>\n    <tr>\n      <th>10359</th>\n      <td>-2.400000e+04</td>\n      <td>5</td>\n      <td>10359</td>\n    </tr>\n    <tr>\n      <th>11135</th>\n      <td>1.514032e+08</td>\n      <td>1</td>\n      <td>11135</td>\n    </tr>\n    <tr>\n      <th>11486</th>\n      <td>4.206700e+06</td>\n      <td>1</td>\n      <td>11486</td>\n    </tr>\n    <tr>\n      <th>11595</th>\n      <td>5.200000e+06</td>\n      <td>23</td>\n      <td>11595</td>\n    </tr>\n    <tr>\n      <th>11989</th>\n      <td>-5.500000e+07</td>\n      <td>1</td>\n      <td>11989</td>\n    </tr>\n    <tr>\n      <th>...</th>\n      <td>...</td>\n      <td>...</td>\n      <td>...</td>\n    </tr>\n    <tr>\n      <th>9998936</th>\n      <td>4.387500e+08</td>\n      <td>1</td>\n      <td>9998936</td>\n    </tr>\n    <tr>\n      <th>9999584</th>\n      <td>1.449000e+07</td>\n      <td>4</td>\n      <td>9999584</td>\n    </tr>\n    <tr>\n      <th>9999852</th>\n      <td>-3.300900e+07</td>\n      <td>1</td>\n      <td>9999852</td>\n    </tr>\n    <tr>\n      <th>9999884</th>\n      <td>-3.338484e+07</td>\n      <td>1</td>\n      <td>9999884</td>\n    </tr>\n    <tr>\n      <th>9999898</th>\n      <td>5.333333e+06</td>\n      <td>3</td>\n      <td>9999898</td>\n    </tr>\n  </tbody>\n</table>\n<p>23412 rows × 3 columns</p>\n</div>"
     },
     "execution_count": 730,
     "metadata": {},
     "output_type": "execute_result"
    }
   ],
   "source": [
    "transferencias = pq.read_table('0transferencias.parquet').to_pandas()\n",
    "transferencias.sort_values(by='FechaEfectiva', ascending=True, inplace=True)\n",
    "transferencias.FechaEfectiva = pd.to_datetime(transferencias.FechaEfectiva, format='%Y-%m-%d')\n",
    "\n",
    "# Agrupar las transacciones por mes y sumar los valores\n",
    "transferencias = transferencias.groupby(\n",
    "    [transferencias['Contrato'], transferencias['FechaEfectiva'].dt.to_period('M')], as_index=True\n",
    ").agg(\n",
    "    ValorTransaccion=('ValorNeto', 'sum'),\n",
    "    Productos=('PlanProducto', 'first'),\n",
    "    User=('Contrato', 'first'),\n",
    "    Tipo=('TipoOper', 'first'),\n",
    ")\n",
    "\n",
    "transferencias = transferencias.groupby(\n",
    "    [transferencias['User']], as_index=True\n",
    ").agg(\n",
    "    ValorTransaccion=('ValorTransaccion', 'mean'),\n",
    "    NumberOfTransactions=('ValorTransaccion', 'count'),\n",
    ")\n",
    "print(transferencias.info())\n",
    "transferencias['Users'] = transferencias.index\n",
    "transferencias"
   ],
   "metadata": {
    "collapsed": false,
    "ExecuteTime": {
     "end_time": "2024-04-15T05:27:12.487974Z",
     "start_time": "2024-04-15T05:27:11.824363Z"
    }
   },
   "id": "e4303ffd5ebf98e7",
   "execution_count": 730
  },
  {
   "cell_type": "code",
   "outputs": [
    {
     "data": {
      "text/plain": "                                 TipoDocum         total    mediaSaldo  \\\nNroDocum   Contrato PlanProducto                                         \n1070499713 6283724  3376                C   1.036830e+08  4.712866e+06   \n1067734816 4241304  3376                C   2.613527e+09  1.187967e+08   \n1018964721 9943050  3376                C   2.808434e+08  1.276561e+07   \n1169386237 9995431  3376                C   1.732767e+08  7.876213e+06   \n1095392085 5555946  3376                C   1.256775e+09  5.712612e+07   \n...                                    ...           ...           ...   \n1081765591 7398048  5172                C   1.504645e+07  6.839297e+05   \n1155662224 8963958  5172                C   3.006538e+08  1.366608e+07   \n1054358908 4117269  5172                C   4.520644e+07  2.054838e+06   \n1051426081 3737506  5172                C   4.491944e+07  2.041793e+06   \n1133162696 7738006  5172                C   3.002064e+06  1.364575e+05   \n\n                                  posiblesPerdidas  activeCases  \\\nNroDocum   Contrato PlanProducto                                  \n1070499713 6283724  3376                      0.00        False   \n1067734816 4241304  3376                      0.00        False   \n1018964721 9943050  3376                 830075.86        False   \n1169386237 9995431  3376                      0.00        False   \n1095392085 5555946  3376                      0.00        False   \n...                                            ...          ...   \n1081765591 7398048  5172                      0.00        False   \n1155662224 8963958  5172                      0.00        False   \n1054358908 4117269  5172                      0.00        False   \n1051426081 3737506  5172                      0.00        False   \n1133162696 7738006  5172                      0.00        False   \n\n                                                   CIUDAD   FecNacim  edad  \nNroDocum   Contrato PlanProducto                                            \n1070499713 6283724  3376              BOGOTA D.C., BOGOTA 1941-07-24    81  \n1067734816 4241304  3376              BOGOTA D.C., BOGOTA 1966-12-06    56  \n1018964721 9943050  3376              BOGOTA D.C., BOGOTA 1966-04-11    56  \n1169386237 9995431  3376              BOGOTA D.C., BOGOTA 1962-05-26    60  \n1095392085 5555946  3376              BOGOTA D.C., BOGOTA 1962-09-25    60  \n...                                                   ...        ...   ...  \n1081765591 7398048  5172              BOGOTA D.C., BOGOTA 1974-02-12    48  \n1155662224 8963958  5172          BARRANQUILLA, ATLANTICO 1956-07-08    66  \n1054358908 4117269  5172              BOGOTA D.C., BOGOTA 1980-04-28    42  \n1051426081 3737506  5172              BOGOTA D.C., BOGOTA 1948-08-17    74  \n1133162696 7738006  5172              ENVIGADO, ANTIOQUIA 1973-05-14    49  \n\n[36131 rows x 8 columns]",
      "text/html": "<div>\n<style scoped>\n    .dataframe tbody tr th:only-of-type {\n        vertical-align: middle;\n    }\n\n    .dataframe tbody tr th {\n        vertical-align: top;\n    }\n\n    .dataframe thead th {\n        text-align: right;\n    }\n</style>\n<table border=\"1\" class=\"dataframe\">\n  <thead>\n    <tr style=\"text-align: right;\">\n      <th></th>\n      <th></th>\n      <th></th>\n      <th>TipoDocum</th>\n      <th>total</th>\n      <th>mediaSaldo</th>\n      <th>posiblesPerdidas</th>\n      <th>activeCases</th>\n      <th>CIUDAD</th>\n      <th>FecNacim</th>\n      <th>edad</th>\n    </tr>\n    <tr>\n      <th>NroDocum</th>\n      <th>Contrato</th>\n      <th>PlanProducto</th>\n      <th></th>\n      <th></th>\n      <th></th>\n      <th></th>\n      <th></th>\n      <th></th>\n      <th></th>\n      <th></th>\n    </tr>\n  </thead>\n  <tbody>\n    <tr>\n      <th>1070499713</th>\n      <th>6283724</th>\n      <th>3376</th>\n      <td>C</td>\n      <td>1.036830e+08</td>\n      <td>4.712866e+06</td>\n      <td>0.00</td>\n      <td>False</td>\n      <td>BOGOTA D.C., BOGOTA</td>\n      <td>1941-07-24</td>\n      <td>81</td>\n    </tr>\n    <tr>\n      <th>1067734816</th>\n      <th>4241304</th>\n      <th>3376</th>\n      <td>C</td>\n      <td>2.613527e+09</td>\n      <td>1.187967e+08</td>\n      <td>0.00</td>\n      <td>False</td>\n      <td>BOGOTA D.C., BOGOTA</td>\n      <td>1966-12-06</td>\n      <td>56</td>\n    </tr>\n    <tr>\n      <th>1018964721</th>\n      <th>9943050</th>\n      <th>3376</th>\n      <td>C</td>\n      <td>2.808434e+08</td>\n      <td>1.276561e+07</td>\n      <td>830075.86</td>\n      <td>False</td>\n      <td>BOGOTA D.C., BOGOTA</td>\n      <td>1966-04-11</td>\n      <td>56</td>\n    </tr>\n    <tr>\n      <th>1169386237</th>\n      <th>9995431</th>\n      <th>3376</th>\n      <td>C</td>\n      <td>1.732767e+08</td>\n      <td>7.876213e+06</td>\n      <td>0.00</td>\n      <td>False</td>\n      <td>BOGOTA D.C., BOGOTA</td>\n      <td>1962-05-26</td>\n      <td>60</td>\n    </tr>\n    <tr>\n      <th>1095392085</th>\n      <th>5555946</th>\n      <th>3376</th>\n      <td>C</td>\n      <td>1.256775e+09</td>\n      <td>5.712612e+07</td>\n      <td>0.00</td>\n      <td>False</td>\n      <td>BOGOTA D.C., BOGOTA</td>\n      <td>1962-09-25</td>\n      <td>60</td>\n    </tr>\n    <tr>\n      <th>...</th>\n      <th>...</th>\n      <th>...</th>\n      <td>...</td>\n      <td>...</td>\n      <td>...</td>\n      <td>...</td>\n      <td>...</td>\n      <td>...</td>\n      <td>...</td>\n      <td>...</td>\n    </tr>\n    <tr>\n      <th>1081765591</th>\n      <th>7398048</th>\n      <th>5172</th>\n      <td>C</td>\n      <td>1.504645e+07</td>\n      <td>6.839297e+05</td>\n      <td>0.00</td>\n      <td>False</td>\n      <td>BOGOTA D.C., BOGOTA</td>\n      <td>1974-02-12</td>\n      <td>48</td>\n    </tr>\n    <tr>\n      <th>1155662224</th>\n      <th>8963958</th>\n      <th>5172</th>\n      <td>C</td>\n      <td>3.006538e+08</td>\n      <td>1.366608e+07</td>\n      <td>0.00</td>\n      <td>False</td>\n      <td>BARRANQUILLA, ATLANTICO</td>\n      <td>1956-07-08</td>\n      <td>66</td>\n    </tr>\n    <tr>\n      <th>1054358908</th>\n      <th>4117269</th>\n      <th>5172</th>\n      <td>C</td>\n      <td>4.520644e+07</td>\n      <td>2.054838e+06</td>\n      <td>0.00</td>\n      <td>False</td>\n      <td>BOGOTA D.C., BOGOTA</td>\n      <td>1980-04-28</td>\n      <td>42</td>\n    </tr>\n    <tr>\n      <th>1051426081</th>\n      <th>3737506</th>\n      <th>5172</th>\n      <td>C</td>\n      <td>4.491944e+07</td>\n      <td>2.041793e+06</td>\n      <td>0.00</td>\n      <td>False</td>\n      <td>BOGOTA D.C., BOGOTA</td>\n      <td>1948-08-17</td>\n      <td>74</td>\n    </tr>\n    <tr>\n      <th>1133162696</th>\n      <th>7738006</th>\n      <th>5172</th>\n      <td>C</td>\n      <td>3.002064e+06</td>\n      <td>1.364575e+05</td>\n      <td>0.00</td>\n      <td>False</td>\n      <td>ENVIGADO, ANTIOQUIA</td>\n      <td>1973-05-14</td>\n      <td>49</td>\n    </tr>\n  </tbody>\n</table>\n<p>36131 rows × 8 columns</p>\n</div>"
     },
     "execution_count": 731,
     "metadata": {},
     "output_type": "execute_result"
    }
   ],
   "source": [
    "def check_last_less_than_others(matrix):\n",
    "    last_elements = matrix[:, -1]\n",
    "    # Compare the last element with all other elements in the row (excluding the last one)\n",
    "    results = [last_elements[i] < (np.max((matrix[i, -4:-3])) * 0.3) for i in range(matrix.shape[0])]\n",
    "    # Convert the list of results to a column vector\n",
    "    result_array = np.array(results).reshape(-1, 1)\n",
    "    return result_array\n",
    "\n",
    "\n",
    "saldos['activeCases'] = check_last_less_than_others(saldos_array[0])\n",
    "clientes = pq.read_table('0clientes.parquet').to_pandas()\n",
    "clientes = clientes.loc[clientes['TIPODOCUM'] == 'C']\n",
    "clientes.drop(\n",
    "    columns=['EnvioExtractos', 'TIPODOCUM'], inplace=True)\n",
    "\n",
    "# saldos = saldos.merge(clientes, how=\"left\", left_on=['NroDocum'], right_on=['NroDocum'])\n",
    "saldos = saldos.join(clientes.set_index(\"NroDocum\"), on=\"NroDocum\")\n",
    "\n",
    "saldos['edad'] = saldos['FecNacim']\n",
    "saldos = saldos.astype({'edad': 'str'})\n",
    "saldos['edad'] = saldos['edad'].str.slice(0, 4)\n",
    "saldos = saldos.astype({'edad': 'int'})\n",
    "saldos['edad'] = -(saldos['edad'] - 2022)\n",
    "\n",
    "saldos"
   ],
   "metadata": {
    "collapsed": false,
    "ExecuteTime": {
     "end_time": "2024-04-15T05:27:12.588401Z",
     "start_time": "2024-04-15T05:27:12.398598Z"
    }
   },
   "id": "b9b9137b12b4045a",
   "execution_count": 731
  },
  {
   "cell_type": "code",
   "outputs": [],
   "source": [
    "saldos['Contratos'] = saldos.index.get_level_values('Contrato')\n",
    "saldos = saldos.join(transferencias.set_index(\"Users\"), on=\"Contratos\")\n",
    "saldos\n",
    "# \n",
    "\n",
    "saldos.loc[saldos['activeCases'] == False].head(10)\n",
    "saldos = saldos.drop(columns=['TipoDocum', 'FecNacim', 'NumberOfTransactions', 'CIUDAD', 'mediaSaldo', 'edad'])\n",
    "# 1079454835"
   ],
   "metadata": {
    "collapsed": false,
    "ExecuteTime": {
     "end_time": "2024-04-15T05:27:12.588905Z",
     "start_time": "2024-04-15T05:27:12.501287Z"
    }
   },
   "id": "83e9c5b61d2d0603",
   "execution_count": 732
  },
  {
   "cell_type": "code",
   "outputs": [
    {
     "data": {
      "text/plain": "                                         total  posiblesPerdidas  activeCases  \\\nNroDocum   Contrato PlanProducto                                                \n1070499713 6283724  3376          1.036830e+08              0.00        False   \n1067734816 4241304  3376          2.613527e+09              0.00        False   \n1018964721 9943050  3376          2.808434e+08         830075.86        False   \n1169386237 9995431  3376          1.732767e+08              0.00        False   \n1095392085 5555946  3376          1.256775e+09              0.00        False   \n...                                        ...               ...          ...   \n1081765591 7398048  5172          1.504645e+07              0.00        False   \n1155662224 8963958  5172          3.006538e+08              0.00        False   \n1054358908 4117269  5172          4.520644e+07              0.00        False   \n1051426081 3737506  5172          4.491944e+07              0.00        False   \n1133162696 7738006  5172          3.002064e+06              0.00        False   \n\n                                  Contratos  ValorTransaccion  \\\nNroDocum   Contrato PlanProducto                                \n1070499713 6283724  3376            6283724     -5.000000e+06   \n1067734816 4241304  3376            4241304               NaN   \n1018964721 9943050  3376            9943050     -1.825385e+04   \n1169386237 9995431  3376            9995431      1.443160e+06   \n1095392085 5555946  3376            5555946               NaN   \n...                                     ...               ...   \n1081765591 7398048  5172            7398048      1.000000e+07   \n1155662224 8963958  5172            8963958      2.020000e+08   \n1054358908 4117269  5172            4117269      3.000000e+07   \n1051426081 3737506  5172            3737506      3.000000e+07   \n1133162696 7738006  5172            7738006      2.000000e+06   \n\n                                  porcentajeCaida         slope  prediction  \nNroDocum   Contrato PlanProducto                                             \n1070499713 6283724  3376                 0.718735 -3.040252e+05       False  \n1067734816 4241304  3376                 0.906037  9.221042e+04       False  \n1018964721 9943050  3376                -0.905232  1.173794e+05       False  \n1169386237 9995431  3376                 0.471734  1.130727e+06       False  \n1095392085 5555946  3376                 0.590664  1.434138e+04       False  \n...                                           ...           ...         ...  \n1081765591 7398048  5172               100.000000  0.000000e+00       False  \n1155662224 8963958  5172               100.000000  0.000000e+00       False  \n1054358908 4117269  5172               100.000000  0.000000e+00       False  \n1051426081 3737506  5172               100.000000  0.000000e+00       False  \n1133162696 7738006  5172               100.000000  0.000000e+00       False  \n\n[36131 rows x 8 columns]",
      "text/html": "<div>\n<style scoped>\n    .dataframe tbody tr th:only-of-type {\n        vertical-align: middle;\n    }\n\n    .dataframe tbody tr th {\n        vertical-align: top;\n    }\n\n    .dataframe thead th {\n        text-align: right;\n    }\n</style>\n<table border=\"1\" class=\"dataframe\">\n  <thead>\n    <tr style=\"text-align: right;\">\n      <th></th>\n      <th></th>\n      <th></th>\n      <th>total</th>\n      <th>posiblesPerdidas</th>\n      <th>activeCases</th>\n      <th>Contratos</th>\n      <th>ValorTransaccion</th>\n      <th>porcentajeCaida</th>\n      <th>slope</th>\n      <th>prediction</th>\n    </tr>\n    <tr>\n      <th>NroDocum</th>\n      <th>Contrato</th>\n      <th>PlanProducto</th>\n      <th></th>\n      <th></th>\n      <th></th>\n      <th></th>\n      <th></th>\n      <th></th>\n      <th></th>\n      <th></th>\n    </tr>\n  </thead>\n  <tbody>\n    <tr>\n      <th>1070499713</th>\n      <th>6283724</th>\n      <th>3376</th>\n      <td>1.036830e+08</td>\n      <td>0.00</td>\n      <td>False</td>\n      <td>6283724</td>\n      <td>-5.000000e+06</td>\n      <td>0.718735</td>\n      <td>-3.040252e+05</td>\n      <td>False</td>\n    </tr>\n    <tr>\n      <th>1067734816</th>\n      <th>4241304</th>\n      <th>3376</th>\n      <td>2.613527e+09</td>\n      <td>0.00</td>\n      <td>False</td>\n      <td>4241304</td>\n      <td>NaN</td>\n      <td>0.906037</td>\n      <td>9.221042e+04</td>\n      <td>False</td>\n    </tr>\n    <tr>\n      <th>1018964721</th>\n      <th>9943050</th>\n      <th>3376</th>\n      <td>2.808434e+08</td>\n      <td>830075.86</td>\n      <td>False</td>\n      <td>9943050</td>\n      <td>-1.825385e+04</td>\n      <td>-0.905232</td>\n      <td>1.173794e+05</td>\n      <td>False</td>\n    </tr>\n    <tr>\n      <th>1169386237</th>\n      <th>9995431</th>\n      <th>3376</th>\n      <td>1.732767e+08</td>\n      <td>0.00</td>\n      <td>False</td>\n      <td>9995431</td>\n      <td>1.443160e+06</td>\n      <td>0.471734</td>\n      <td>1.130727e+06</td>\n      <td>False</td>\n    </tr>\n    <tr>\n      <th>1095392085</th>\n      <th>5555946</th>\n      <th>3376</th>\n      <td>1.256775e+09</td>\n      <td>0.00</td>\n      <td>False</td>\n      <td>5555946</td>\n      <td>NaN</td>\n      <td>0.590664</td>\n      <td>1.434138e+04</td>\n      <td>False</td>\n    </tr>\n    <tr>\n      <th>...</th>\n      <th>...</th>\n      <th>...</th>\n      <td>...</td>\n      <td>...</td>\n      <td>...</td>\n      <td>...</td>\n      <td>...</td>\n      <td>...</td>\n      <td>...</td>\n      <td>...</td>\n    </tr>\n    <tr>\n      <th>1081765591</th>\n      <th>7398048</th>\n      <th>5172</th>\n      <td>1.504645e+07</td>\n      <td>0.00</td>\n      <td>False</td>\n      <td>7398048</td>\n      <td>1.000000e+07</td>\n      <td>100.000000</td>\n      <td>0.000000e+00</td>\n      <td>False</td>\n    </tr>\n    <tr>\n      <th>1155662224</th>\n      <th>8963958</th>\n      <th>5172</th>\n      <td>3.006538e+08</td>\n      <td>0.00</td>\n      <td>False</td>\n      <td>8963958</td>\n      <td>2.020000e+08</td>\n      <td>100.000000</td>\n      <td>0.000000e+00</td>\n      <td>False</td>\n    </tr>\n    <tr>\n      <th>1054358908</th>\n      <th>4117269</th>\n      <th>5172</th>\n      <td>4.520644e+07</td>\n      <td>0.00</td>\n      <td>False</td>\n      <td>4117269</td>\n      <td>3.000000e+07</td>\n      <td>100.000000</td>\n      <td>0.000000e+00</td>\n      <td>False</td>\n    </tr>\n    <tr>\n      <th>1051426081</th>\n      <th>3737506</th>\n      <th>5172</th>\n      <td>4.491944e+07</td>\n      <td>0.00</td>\n      <td>False</td>\n      <td>3737506</td>\n      <td>3.000000e+07</td>\n      <td>100.000000</td>\n      <td>0.000000e+00</td>\n      <td>False</td>\n    </tr>\n    <tr>\n      <th>1133162696</th>\n      <th>7738006</th>\n      <th>5172</th>\n      <td>3.002064e+06</td>\n      <td>0.00</td>\n      <td>False</td>\n      <td>7738006</td>\n      <td>2.000000e+06</td>\n      <td>100.000000</td>\n      <td>0.000000e+00</td>\n      <td>False</td>\n    </tr>\n  </tbody>\n</table>\n<p>36131 rows × 8 columns</p>\n</div>"
     },
     "execution_count": 733,
     "metadata": {},
     "output_type": "execute_result"
    }
   ],
   "source": [
    "\n",
    "def predictions(matrix):\n",
    "    mask_array = []\n",
    "    for i in range(matrix.shape[0]):\n",
    "        # Aqui suve a 90 sin -3\n",
    "        serie_temporal = matrix[i, :-3]\n",
    "\n",
    "        try:\n",
    "            serie = pd.Series(serie_temporal)\n",
    "\n",
    "            # Calcula el promedio móvil con una ventana de tamaño window_size\n",
    "            serie_temporal = serie.rolling(window=3, min_periods=1).mean().dropna().values[-3:]\n",
    "            \n",
    "            tiempo = np.arange(len(serie_temporal)).reshape(-1, 1)\n",
    "            # Crea y ajusta un modelo de regresión lineal\n",
    "            modelo = LinearRegression()\n",
    "            modelo.fit(tiempo, serie_temporal)\n",
    "            # Hacer predicciones para los siguientes tres valores\n",
    "            siguientes_tres_valores = np.array(\n",
    "                [[len(serie_temporal)], [len(serie_temporal) + 1], [len(serie_temporal) + 2]])\n",
    "\n",
    "            predicciones = list((modelo.predict(siguientes_tres_valores)))\n",
    "\n",
    "            predict_2 = (predicciones[-2]) < (serie_temporal[-1] * 0.3)\n",
    "            predict_3 = (predicciones[-3]) < (serie_temporal[-1] * 0.3)\n",
    "            predict_1 = (predicciones[-1]) < (serie_temporal[-1] * 0.3)\n",
    "            if predict_1 or predict_2 or predict_3:\n",
    "                mask_array.append(True)\n",
    "            else:\n",
    "                mask_array.append(False)\n",
    "\n",
    "        except:\n",
    "            mask_array.append(False)\n",
    "\n",
    "    return mask_array\n",
    "\n",
    "\n",
    "def tendencia(matrix):\n",
    "    mask_array = []\n",
    "    for i in range(matrix.shape[0]):\n",
    "        serie_temporal = matrix[i, :-3]\n",
    "        tiempo = np.arange(len(serie_temporal)).reshape(-1, 1)\n",
    "        modelo = LinearRegression()\n",
    "        modelo.fit(tiempo, serie_temporal)\n",
    "        pendiente = modelo.coef_[0]\n",
    "        mask_array.append(pendiente)\n",
    "\n",
    "    return mask_array\n",
    "\n",
    "\n",
    "def drop_percent(matrix):\n",
    "    drop_array = []\n",
    "    for i in range(matrix.shape[0]):\n",
    "        y = list(matrix[i])\n",
    "        y = [i for i in y if i > 0]\n",
    "        start = -2\n",
    "        try:\n",
    "            porcentaje_caida = ((y[-1]) / (y[start] * 0.01)) - 100\n",
    "            drop_array.append(porcentaje_caida)\n",
    "        except:\n",
    "            drop_array.append(0)\n",
    "    return drop_array\n",
    "\n",
    "\n",
    "saldos['porcentajeCaida'] = drop_percent(saldos_array[0])\n",
    "saldos['slope'] = tendencia(saldos_array[0])\n",
    "saldos['prediction'] = predictions(saldos_array[0])\n",
    "\n",
    "saldos\n"
   ],
   "metadata": {
    "collapsed": false,
    "ExecuteTime": {
     "end_time": "2024-04-15T05:27:24.929612Z",
     "start_time": "2024-04-15T05:27:12.568316Z"
    }
   },
   "id": "e5cb7910fb7ab127",
   "execution_count": 733
  },
  {
   "cell_type": "code",
   "outputs": [
    {
     "data": {
      "text/plain": "                                         total  posiblesPerdidas  activeCases  \\\nNroDocum   Contrato PlanProducto                                                \n1105297798 2200275  4899          4.218034e+08      8.272368e+06         True   \n1187108348 7044987  8404          3.471420e+09      8.442569e+07         True   \n1108520330 3533499  8404          1.946047e+09      7.691772e+07         True   \n1022097976 8721209  8404          5.373961e+07      1.121144e+05         True   \n1165012646 5990227  3376          5.917253e+09      3.002709e+08         True   \n...                                        ...               ...          ...   \n1164992875 5654444  4899          1.107758e+08      6.093500e+06         True   \n1058514762 7123959  4899          6.803875e+09      1.591713e+08         True   \n1000118312 5648869  4899          1.150976e+09      3.823788e+07         True   \n1080796902 408749   5172          1.537971e+08      1.779550e+06         True   \n1015365088 376257   4899          7.917705e+09      3.754148e+08         True   \n\n                                  Contratos  ValorTransaccion  \\\nNroDocum   Contrato PlanProducto                                \n1105297798 2200275  4899            2200275     -1.284862e+06   \n1187108348 7044987  8404            7044987     -1.399432e+08   \n1108520330 3533499  8404            3533499     -2.585378e+07   \n1022097976 8721209  8404            8721209     -2.601374e+05   \n1165012646 5990227  3376            5990227     -1.913979e+07   \n...                                     ...               ...   \n1164992875 5654444  4899            5654444     -6.386633e+06   \n1058514762 7123959  4899            7123959      4.021410e+06   \n1000118312 5648869  4899            5648869      1.571801e+05   \n1080796902 408749   5172             408749      8.726171e+04   \n1015365088 376257   4899             376257      7.915645e+05   \n\n                                  porcentajeCaida         slope  prediction  \nNroDocum   Contrato PlanProducto                                             \n1105297798 2200275  4899               -86.497742 -1.248519e+06       False  \n1187108348 7044987  8404               -37.094613 -8.187250e+05       False  \n1108520330 3533499  8404               -72.480132 -3.550158e+05       False  \n1022097976 8721209  8404                -1.312980 -1.844221e+04       False  \n1165012646 5990227  3376               -50.000000 -3.332961e+06       False  \n...                                           ...           ...         ...  \n1164992875 5654444  4899               -82.716618 -1.411481e+05       False  \n1058514762 7123959  4899               -50.000000 -2.150744e+06       False  \n1000118312 5648869  4899               -50.000000 -3.087818e+05       False  \n1080796902 408749   5172               -50.000000 -1.513201e+05       False  \n1015365088 376257   4899               -96.460457 -1.518964e+06       False  \n\n[797 rows x 8 columns]",
      "text/html": "<div>\n<style scoped>\n    .dataframe tbody tr th:only-of-type {\n        vertical-align: middle;\n    }\n\n    .dataframe tbody tr th {\n        vertical-align: top;\n    }\n\n    .dataframe thead th {\n        text-align: right;\n    }\n</style>\n<table border=\"1\" class=\"dataframe\">\n  <thead>\n    <tr style=\"text-align: right;\">\n      <th></th>\n      <th></th>\n      <th></th>\n      <th>total</th>\n      <th>posiblesPerdidas</th>\n      <th>activeCases</th>\n      <th>Contratos</th>\n      <th>ValorTransaccion</th>\n      <th>porcentajeCaida</th>\n      <th>slope</th>\n      <th>prediction</th>\n    </tr>\n    <tr>\n      <th>NroDocum</th>\n      <th>Contrato</th>\n      <th>PlanProducto</th>\n      <th></th>\n      <th></th>\n      <th></th>\n      <th></th>\n      <th></th>\n      <th></th>\n      <th></th>\n      <th></th>\n    </tr>\n  </thead>\n  <tbody>\n    <tr>\n      <th>1105297798</th>\n      <th>2200275</th>\n      <th>4899</th>\n      <td>4.218034e+08</td>\n      <td>8.272368e+06</td>\n      <td>True</td>\n      <td>2200275</td>\n      <td>-1.284862e+06</td>\n      <td>-86.497742</td>\n      <td>-1.248519e+06</td>\n      <td>False</td>\n    </tr>\n    <tr>\n      <th>1187108348</th>\n      <th>7044987</th>\n      <th>8404</th>\n      <td>3.471420e+09</td>\n      <td>8.442569e+07</td>\n      <td>True</td>\n      <td>7044987</td>\n      <td>-1.399432e+08</td>\n      <td>-37.094613</td>\n      <td>-8.187250e+05</td>\n      <td>False</td>\n    </tr>\n    <tr>\n      <th>1108520330</th>\n      <th>3533499</th>\n      <th>8404</th>\n      <td>1.946047e+09</td>\n      <td>7.691772e+07</td>\n      <td>True</td>\n      <td>3533499</td>\n      <td>-2.585378e+07</td>\n      <td>-72.480132</td>\n      <td>-3.550158e+05</td>\n      <td>False</td>\n    </tr>\n    <tr>\n      <th>1022097976</th>\n      <th>8721209</th>\n      <th>8404</th>\n      <td>5.373961e+07</td>\n      <td>1.121144e+05</td>\n      <td>True</td>\n      <td>8721209</td>\n      <td>-2.601374e+05</td>\n      <td>-1.312980</td>\n      <td>-1.844221e+04</td>\n      <td>False</td>\n    </tr>\n    <tr>\n      <th>1165012646</th>\n      <th>5990227</th>\n      <th>3376</th>\n      <td>5.917253e+09</td>\n      <td>3.002709e+08</td>\n      <td>True</td>\n      <td>5990227</td>\n      <td>-1.913979e+07</td>\n      <td>-50.000000</td>\n      <td>-3.332961e+06</td>\n      <td>False</td>\n    </tr>\n    <tr>\n      <th>...</th>\n      <th>...</th>\n      <th>...</th>\n      <td>...</td>\n      <td>...</td>\n      <td>...</td>\n      <td>...</td>\n      <td>...</td>\n      <td>...</td>\n      <td>...</td>\n      <td>...</td>\n    </tr>\n    <tr>\n      <th>1164992875</th>\n      <th>5654444</th>\n      <th>4899</th>\n      <td>1.107758e+08</td>\n      <td>6.093500e+06</td>\n      <td>True</td>\n      <td>5654444</td>\n      <td>-6.386633e+06</td>\n      <td>-82.716618</td>\n      <td>-1.411481e+05</td>\n      <td>False</td>\n    </tr>\n    <tr>\n      <th>1058514762</th>\n      <th>7123959</th>\n      <th>4899</th>\n      <td>6.803875e+09</td>\n      <td>1.591713e+08</td>\n      <td>True</td>\n      <td>7123959</td>\n      <td>4.021410e+06</td>\n      <td>-50.000000</td>\n      <td>-2.150744e+06</td>\n      <td>False</td>\n    </tr>\n    <tr>\n      <th>1000118312</th>\n      <th>5648869</th>\n      <th>4899</th>\n      <td>1.150976e+09</td>\n      <td>3.823788e+07</td>\n      <td>True</td>\n      <td>5648869</td>\n      <td>1.571801e+05</td>\n      <td>-50.000000</td>\n      <td>-3.087818e+05</td>\n      <td>False</td>\n    </tr>\n    <tr>\n      <th>1080796902</th>\n      <th>408749</th>\n      <th>5172</th>\n      <td>1.537971e+08</td>\n      <td>1.779550e+06</td>\n      <td>True</td>\n      <td>408749</td>\n      <td>8.726171e+04</td>\n      <td>-50.000000</td>\n      <td>-1.513201e+05</td>\n      <td>False</td>\n    </tr>\n    <tr>\n      <th>1015365088</th>\n      <th>376257</th>\n      <th>4899</th>\n      <td>7.917705e+09</td>\n      <td>3.754148e+08</td>\n      <td>True</td>\n      <td>376257</td>\n      <td>7.915645e+05</td>\n      <td>-96.460457</td>\n      <td>-1.518964e+06</td>\n      <td>False</td>\n    </tr>\n  </tbody>\n</table>\n<p>797 rows × 8 columns</p>\n</div>"
     },
     "execution_count": 734,
     "metadata": {},
     "output_type": "execute_result"
    }
   ],
   "source": [
    "baja_true = saldos.loc[(saldos['activeCases'] == True) & (saldos['slope'] < 0)]\n",
    "sube_true = saldos.loc[(saldos['activeCases'] == True) & (saldos['slope'] > 0)]\n",
    "baja_false = saldos.loc[(saldos['activeCases'] == False) & (saldos['slope'] < 0)]\n",
    "sube_false = saldos.loc[(saldos['activeCases'] == False) & (saldos['slope'] > 0)]\n",
    "\n",
    "baja_true\n"
   ],
   "metadata": {
    "collapsed": false,
    "ExecuteTime": {
     "end_time": "2024-04-15T05:27:25.001124Z",
     "start_time": "2024-04-15T05:27:24.928966Z"
    }
   },
   "id": "673c771387a1ea3b",
   "execution_count": 734
  },
  {
   "cell_type": "markdown",
   "source": [
    "Porcentaje de caida\n",
    "Tendencia si pronostica una caida de mas del 70%\n"
   ],
   "metadata": {
    "collapsed": false
   },
   "id": "d560945040e4d388"
  },
  {
   "cell_type": "code",
   "outputs": [
    {
     "name": "stdout",
     "output_type": "stream",
     "text": [
      "TOTAL DE CASOS ACTIVOS:  1452\n",
      "CASOS ACTIVOS CON PREDICCION -30%:  171\n",
      "CASOS ACTIVOS SLOPE:  797\n"
     ]
    }
   ],
   "source": [
    "a = len(baja_true.loc[baja_true.prediction == True].values)\n",
    "\n",
    "b = len(sube_true.loc[sube_true.prediction == True].values)\n",
    "\n",
    "verdaderos = len(saldos.loc[saldos['activeCases'] == True].index.values)\n",
    "\n",
    "print('TOTAL DE CASOS ACTIVOS: ', verdaderos)\n",
    "print('CASOS ACTIVOS CON PREDICCION -30%: ', (a + b))\n",
    "\n",
    "a = len(baja_true.loc[baja_true.slope < 0].values)\n",
    "\n",
    "verdaderos = len(saldos.loc[saldos['activeCases'] == True].index.values)\n",
    "\n",
    "print('CASOS ACTIVOS SLOPE: ', (a))\n"
   ],
   "metadata": {
    "collapsed": false,
    "ExecuteTime": {
     "end_time": "2024-04-15T05:27:25.001790Z",
     "start_time": "2024-04-15T05:27:24.955751Z"
    }
   },
   "id": "b300100a45f4dc7e",
   "execution_count": 735
  },
  {
   "cell_type": "code",
   "outputs": [
    {
     "name": "stdout",
     "output_type": "stream",
     "text": [
      "TOTAL DE NO CASOS ACTIVOS:  34679\n",
      "CASOS NO ACTIVOS CON PREDICCION -30%:  1884\n",
      "CASOS NO ACTIVOS SLOPE:  21292\n"
     ]
    },
    {
     "data": {
      "text/plain": "                                         total  posiblesPerdidas  activeCases  \\\nNroDocum   Contrato PlanProducto                                                \n1070499713 6283724  3376          1.036830e+08              0.00        False   \n1067734816 4241304  3376          2.613527e+09              0.00        False   \n1018964721 9943050  3376          2.808434e+08         830075.86        False   \n1169386237 9995431  3376          1.732767e+08              0.00        False   \n1095392085 5555946  3376          1.256775e+09              0.00        False   \n...                                        ...               ...          ...   \n1081765591 7398048  5172          1.504645e+07              0.00        False   \n1155662224 8963958  5172          3.006538e+08              0.00        False   \n1054358908 4117269  5172          4.520644e+07              0.00        False   \n1051426081 3737506  5172          4.491944e+07              0.00        False   \n1133162696 7738006  5172          3.002064e+06              0.00        False   \n\n                                  Contratos  ValorTransaccion  \\\nNroDocum   Contrato PlanProducto                                \n1070499713 6283724  3376            6283724     -5.000000e+06   \n1067734816 4241304  3376            4241304      2.613527e+06   \n1018964721 9943050  3376            9943050     -1.825385e+04   \n1169386237 9995431  3376            9995431      1.443160e+06   \n1095392085 5555946  3376            5555946      1.256775e+06   \n...                                     ...               ...   \n1081765591 7398048  5172            7398048      1.000000e+07   \n1155662224 8963958  5172            8963958      2.020000e+08   \n1054358908 4117269  5172            4117269      3.000000e+07   \n1051426081 3737506  5172            3737506      3.000000e+07   \n1133162696 7738006  5172            7738006      2.000000e+06   \n\n                                  porcentajeCaida         slope  prediction  \\\nNroDocum   Contrato PlanProducto                                              \n1070499713 6283724  3376                 0.718735 -3.040252e+05       False   \n1067734816 4241304  3376                 0.906037  9.221042e+04       False   \n1018964721 9943050  3376                -0.905232  1.173794e+05       False   \n1169386237 9995431  3376                 0.471734  1.130727e+06       False   \n1095392085 5555946  3376                 0.590664  1.434138e+04       False   \n...                                           ...           ...         ...   \n1081765591 7398048  5172               100.000000  0.000000e+00       False   \n1155662224 8963958  5172               100.000000  0.000000e+00       False   \n1054358908 4117269  5172               100.000000  0.000000e+00       False   \n1051426081 3737506  5172               100.000000  0.000000e+00       False   \n1133162696 7738006  5172               100.000000  0.000000e+00       False   \n\n                                  totalPercent  \nNroDocum   Contrato PlanProducto                \n1070499713 6283724  3376             -0.002932  \n1067734816 4241304  3376              0.000035  \n1018964721 9943050  3376              0.000418  \n1169386237 9995431  3376              0.006526  \n1095392085 5555946  3376              0.000011  \n...                                        ...  \n1081765591 7398048  5172              0.000000  \n1155662224 8963958  5172              0.000000  \n1054358908 4117269  5172              0.000000  \n1051426081 3737506  5172              0.000000  \n1133162696 7738006  5172              0.000000  \n\n[36131 rows x 9 columns]",
      "text/html": "<div>\n<style scoped>\n    .dataframe tbody tr th:only-of-type {\n        vertical-align: middle;\n    }\n\n    .dataframe tbody tr th {\n        vertical-align: top;\n    }\n\n    .dataframe thead th {\n        text-align: right;\n    }\n</style>\n<table border=\"1\" class=\"dataframe\">\n  <thead>\n    <tr style=\"text-align: right;\">\n      <th></th>\n      <th></th>\n      <th></th>\n      <th>total</th>\n      <th>posiblesPerdidas</th>\n      <th>activeCases</th>\n      <th>Contratos</th>\n      <th>ValorTransaccion</th>\n      <th>porcentajeCaida</th>\n      <th>slope</th>\n      <th>prediction</th>\n      <th>totalPercent</th>\n    </tr>\n    <tr>\n      <th>NroDocum</th>\n      <th>Contrato</th>\n      <th>PlanProducto</th>\n      <th></th>\n      <th></th>\n      <th></th>\n      <th></th>\n      <th></th>\n      <th></th>\n      <th></th>\n      <th></th>\n      <th></th>\n    </tr>\n  </thead>\n  <tbody>\n    <tr>\n      <th>1070499713</th>\n      <th>6283724</th>\n      <th>3376</th>\n      <td>1.036830e+08</td>\n      <td>0.00</td>\n      <td>False</td>\n      <td>6283724</td>\n      <td>-5.000000e+06</td>\n      <td>0.718735</td>\n      <td>-3.040252e+05</td>\n      <td>False</td>\n      <td>-0.002932</td>\n    </tr>\n    <tr>\n      <th>1067734816</th>\n      <th>4241304</th>\n      <th>3376</th>\n      <td>2.613527e+09</td>\n      <td>0.00</td>\n      <td>False</td>\n      <td>4241304</td>\n      <td>2.613527e+06</td>\n      <td>0.906037</td>\n      <td>9.221042e+04</td>\n      <td>False</td>\n      <td>0.000035</td>\n    </tr>\n    <tr>\n      <th>1018964721</th>\n      <th>9943050</th>\n      <th>3376</th>\n      <td>2.808434e+08</td>\n      <td>830075.86</td>\n      <td>False</td>\n      <td>9943050</td>\n      <td>-1.825385e+04</td>\n      <td>-0.905232</td>\n      <td>1.173794e+05</td>\n      <td>False</td>\n      <td>0.000418</td>\n    </tr>\n    <tr>\n      <th>1169386237</th>\n      <th>9995431</th>\n      <th>3376</th>\n      <td>1.732767e+08</td>\n      <td>0.00</td>\n      <td>False</td>\n      <td>9995431</td>\n      <td>1.443160e+06</td>\n      <td>0.471734</td>\n      <td>1.130727e+06</td>\n      <td>False</td>\n      <td>0.006526</td>\n    </tr>\n    <tr>\n      <th>1095392085</th>\n      <th>5555946</th>\n      <th>3376</th>\n      <td>1.256775e+09</td>\n      <td>0.00</td>\n      <td>False</td>\n      <td>5555946</td>\n      <td>1.256775e+06</td>\n      <td>0.590664</td>\n      <td>1.434138e+04</td>\n      <td>False</td>\n      <td>0.000011</td>\n    </tr>\n    <tr>\n      <th>...</th>\n      <th>...</th>\n      <th>...</th>\n      <td>...</td>\n      <td>...</td>\n      <td>...</td>\n      <td>...</td>\n      <td>...</td>\n      <td>...</td>\n      <td>...</td>\n      <td>...</td>\n      <td>...</td>\n    </tr>\n    <tr>\n      <th>1081765591</th>\n      <th>7398048</th>\n      <th>5172</th>\n      <td>1.504645e+07</td>\n      <td>0.00</td>\n      <td>False</td>\n      <td>7398048</td>\n      <td>1.000000e+07</td>\n      <td>100.000000</td>\n      <td>0.000000e+00</td>\n      <td>False</td>\n      <td>0.000000</td>\n    </tr>\n    <tr>\n      <th>1155662224</th>\n      <th>8963958</th>\n      <th>5172</th>\n      <td>3.006538e+08</td>\n      <td>0.00</td>\n      <td>False</td>\n      <td>8963958</td>\n      <td>2.020000e+08</td>\n      <td>100.000000</td>\n      <td>0.000000e+00</td>\n      <td>False</td>\n      <td>0.000000</td>\n    </tr>\n    <tr>\n      <th>1054358908</th>\n      <th>4117269</th>\n      <th>5172</th>\n      <td>4.520644e+07</td>\n      <td>0.00</td>\n      <td>False</td>\n      <td>4117269</td>\n      <td>3.000000e+07</td>\n      <td>100.000000</td>\n      <td>0.000000e+00</td>\n      <td>False</td>\n      <td>0.000000</td>\n    </tr>\n    <tr>\n      <th>1051426081</th>\n      <th>3737506</th>\n      <th>5172</th>\n      <td>4.491944e+07</td>\n      <td>0.00</td>\n      <td>False</td>\n      <td>3737506</td>\n      <td>3.000000e+07</td>\n      <td>100.000000</td>\n      <td>0.000000e+00</td>\n      <td>False</td>\n      <td>0.000000</td>\n    </tr>\n    <tr>\n      <th>1133162696</th>\n      <th>7738006</th>\n      <th>5172</th>\n      <td>3.002064e+06</td>\n      <td>0.00</td>\n      <td>False</td>\n      <td>7738006</td>\n      <td>2.000000e+06</td>\n      <td>100.000000</td>\n      <td>0.000000e+00</td>\n      <td>False</td>\n      <td>0.000000</td>\n    </tr>\n  </tbody>\n</table>\n<p>36131 rows × 9 columns</p>\n</div>"
     },
     "execution_count": 736,
     "metadata": {},
     "output_type": "execute_result"
    }
   ],
   "source": [
    "a = len(baja_false.loc[baja_false.prediction == True].values)\n",
    "\n",
    "b = len(sube_false.loc[sube_false.prediction == True].values)\n",
    "\n",
    "verdaderos = len(saldos.loc[saldos['activeCases'] == False].index.values)\n",
    "\n",
    "print('TOTAL DE NO CASOS ACTIVOS: ', verdaderos)\n",
    "print('CASOS NO ACTIVOS CON PREDICCION -30%: ', (a + b))\n",
    "\n",
    "a = len(baja_false.loc[baja_false.slope < 0].values)\n",
    "\n",
    "b = len(sube_false.loc[sube_false.slope < 0].values)\n",
    "\n",
    "verdaderos = len(saldos.loc[saldos['activeCases'] == False].index.values)\n",
    "\n",
    "print('CASOS NO ACTIVOS SLOPE: ', (a))\n",
    "saldos['totalPercent'] = saldos['slope'] / saldos['total']\n",
    "\n",
    "# Mostrar el DataFrame modificado\n",
    "saldos['ValorTransaccion'] = saldos['ValorTransaccion'].fillna(saldos['total'] / 1000)\n",
    "saldos['ValorTransaccion'].fillna(0, inplace=True)\n",
    "saldos['totalPercent'] = saldos['totalPercent'].fillna(saldos['porcentajeCaida'] * 10)\n",
    "\n",
    "\n",
    "\n",
    "saldos\n"
   ],
   "metadata": {
    "collapsed": false,
    "ExecuteTime": {
     "end_time": "2024-04-15T05:27:25.173223Z",
     "start_time": "2024-04-15T05:27:24.983344Z"
    }
   },
   "id": "6caee903d556587b",
   "execution_count": 736
  },
  {
   "cell_type": "markdown",
   "source": [
    "### Descripción del modelo y sus variables\n",
    "\n",
    "El RandomForestClassifier es un método de aprendizaje supervisado que pertenece a la familia de los métodos de ensamble, específicamente a los métodos de bagging. Se construye utilizando múltiples árboles de decisión durante el entrenamiento y produce la clase que es la moda de las clases de los árboles individuales para clasificación, o el promedio de las predicciones para regresión.\n",
    "\n",
    "Características principales:\n",
    "\n",
    "- Robustez: Al utilizar múltiples árboles, el clasificador es generalmente robusto frente al sobreajuste, especialmente en comparación con otros modelos como los árboles de decisión individuales.\n",
    "\n",
    "- Manejo de Datos: Puede manejar automáticamente tanto variables numéricas como categóricas y no requiere que las variables de entrada estén escaladas o normalizadas.\n",
    "\n",
    "- Importancia de las Características: Ofrece una excelente perspectiva sobre la importancia de las características, lo que puede ser útil para la selección de variables y entender qué factores son más importantes para la predicción.\n",
    "\n",
    "- Flexibilidad: Puede ser utilizado tanto para problemas de clasificación como de regresión, haciendo que sea una herramienta versátil en el arsenal de un científico de datos.\n",
    "\n",
    "El clasificador trabaja construyendo un conjunto de árboles de decisión entrenados en diferentes subconjuntos del conjunto de datos original (seleccionados con reemplazo), con cada árbol dando un voto en la predicción final. Esta técnica mejora la precisión de la predicción y controla el sobreajuste.\n",
    "\n",
    "-\n",
    "\n",
    "| Variable                           | Description                                                           |\n",
    "|------------------------------------|-----------------------------------------------------------------------|\n",
    "| `Predicción con regresion Lineal`  | Valor que indica si se detectó una predicción que baje del 70% en los 3 meses siguientes |\n",
    "| `Pendiente promedio de los saldos` | Indica cual es el ritmo de crecimiento de la serie temporal ( si es negativo o positivo ) |\n",
    "| `Promedio de transacciones`        | Promedio de transacciones del cliente ( si ha retirado mas de lo que ha ingresado a la cuenta ) |\n",
    "| `Relación pendiente - Saldo Total` | Indica la relación que hay entre el saldo total y la pendiente        |\n",
    "\n",
    "\n"
   ],
   "metadata": {
    "collapsed": false
   },
   "id": "7f3a3793b621ce5d"
  },
  {
   "cell_type": "markdown",
   "source": [
    "### RandomForestClassifier\n"
   ],
   "metadata": {
    "collapsed": false
   },
   "id": "6bea34a0b03db202"
  },
  {
   "cell_type": "code",
   "outputs": [
    {
     "name": "stdout",
     "output_type": "stream",
     "text": [
      "Reporte de clasificación (Random Forest):\n",
      "               precision    recall  f1-score   support\n",
      "\n",
      "       False       0.99      1.00      0.99      6941\n",
      "        True       0.91      0.78      0.84       286\n",
      "\n",
      "    accuracy                           0.99      7227\n",
      "   macro avg       0.95      0.89      0.92      7227\n",
      "weighted avg       0.99      0.99      0.99      7227\n",
      "\n",
      "Matriz de confusión (Random Forest):\n",
      " [[6919   22]\n",
      " [  63  223]]\n",
      "Accuracy del modelo (Random Forest): 0.99\n"
     ]
    }
   ],
   "source": [
    "from sklearn.model_selection import train_test_split\n",
    "from sklearn.ensemble import RandomForestClassifier  # Importar RandomForest\n",
    "from sklearn.metrics import accuracy_score, classification_report, confusion_matrix\n",
    "from sklearn.preprocessing import LabelEncoder\n",
    "from sklearn.impute import SimpleImputer\n",
    "import pandas as pd\n",
    "\n",
    "# Suponemos que 'data' es tu DataFrame original y que 'saldos' ya ha sido cargado correctamente\n",
    "data = saldos.copy()\n",
    "\n",
    "# Imputación de valores faltan\n",
    "\n",
    "# (Asumiendo que necesitas transformar 'prediction' de categórica a numérica si aún no está hecho)\n",
    "le = LabelEncoder()\n",
    "data['prediction'] = le.fit_transform(data['prediction'])\n",
    "\n",
    "# Separar las variables predictoras y el objetivo\n",
    "X = data[['prediction', 'porcentajeCaida', 'totalPercent', 'ValorTransaccion']]\n",
    "y = data['activeCases']\n",
    "rd = 5\n",
    "\n",
    "# Dividir los datos en conjuntos de entrenamiento y prueba\n",
    "X_train, X_test, y_train, y_test = train_test_split(X, y, test_size=0.2, random_state=rd)\n",
    "\n",
    "# Modelo de Random Forest\n",
    "forest_model = RandomForestClassifier(criterion='log_loss', n_estimators=10, random_state=rd, n_jobs=3)  # Usar 100 árboles\n",
    "forest_model.fit(X_train, y_train)\n",
    "\n",
    "# Predicciones y evaluación del modelo\n",
    "predicciones_forest = forest_model.predict(X_test)\n",
    "reporte_clasificacion_forest = classification_report(y_test, predicciones_forest)\n",
    "matriz_confusion_forest = confusion_matrix(y_test, predicciones_forest)\n",
    "accuracy_forest = accuracy_score(y_test, predicciones_forest)\n",
    "\n",
    "# Imprimir los resultados\n",
    "print(\"Reporte de clasificación (Random Forest):\\n\", reporte_clasificacion_forest)\n",
    "print(\"Matriz de confusión (Random Forest):\\n\", matriz_confusion_forest)\n",
    "print(f'Accuracy del modelo (Random Forest): {accuracy_forest:.2f}')\n"
   ],
   "metadata": {
    "collapsed": false,
    "ExecuteTime": {
     "end_time": "2024-04-15T05:27:25.340020Z",
     "start_time": "2024-04-15T05:27:25.077864Z"
    }
   },
   "id": "241c42697eaa8d41",
   "execution_count": 737
  },
  {
   "cell_type": "code",
   "outputs": [
    {
     "name": "stdout",
     "output_type": "stream",
     "text": [
      "Mejores parámetros: {'criterion': 'gini', 'max_depth': 30, 'min_samples_split': 3, 'n_estimators': 40}\n",
      "Reporte de clasificación (Random Forest):\n",
      "               precision    recall  f1-score   support\n",
      "\n",
      "       False       0.99      1.00      0.99      6941\n",
      "        True       0.91      0.78      0.84       286\n",
      "\n",
      "    accuracy                           0.99      7227\n",
      "   macro avg       0.95      0.89      0.92      7227\n",
      "weighted avg       0.99      0.99      0.99      7227\n",
      "\n",
      "Matriz de confusión (Random Forest):\n",
      " [[6919   22]\n",
      " [  63  223]]\n",
      "Accuracy del modelo (Random Forest): 0.99\n",
      "Accuracy del mejor modelo (Randomized): 0.9876850698768507\n"
     ]
    }
   ],
   "source": [
    "from sklearn.model_selection import RandomizedSearchCV\n",
    "from scipy.stats import randint\n",
    "\n",
    "# Definición del modelo\n",
    "# Definición del espacio de parámetros a probar\n",
    "param_dist = {\n",
    "    'n_estimators': randint(10, 50),\n",
    "    'criterion': ['gini', 'entropy', ],\n",
    "    'max_depth': [None, 10, 20, 30],\n",
    "    'min_samples_split': randint(2, 11)\n",
    "}\n",
    "\n",
    "# Crear el objeto RandomizedSearchCV\n",
    "random_search = RandomizedSearchCV(estimator=forest_model, param_distributions=param_dist, n_iter=10, cv=5, scoring='accuracy', random_state=rd)\n",
    "\n",
    "# Ejecutar la búsqueda aleatoria\n",
    "random_search.fit(X_train, y_train)\n",
    "\n",
    "# Mejores parámetros encontrados\n",
    "print(\"Mejores parámetros:\", random_search.best_params_)\n",
    "\n",
    "# Mejor modelo encontrado\n",
    "best_forest_random = random_search.best_estimator_\n",
    "\n",
    "# Evaluación del mejor modelo\n",
    "\n",
    "predicciones_best_forest_random = best_forest_random.predict(X_test)\n",
    "reporte_clasificacion_forest = classification_report(y_test, predicciones_forest)\n",
    "matriz_confusion_forest = confusion_matrix(y_test, predicciones_forest)\n",
    "accuracy_forest = accuracy_score(y_test, predicciones_forest)\n",
    "\n",
    "# Imprimir los resultados\n",
    "print(\"Reporte de clasificación (Random Forest):\\n\", reporte_clasificacion_forest)\n",
    "print(\"Matriz de confusión (Random Forest):\\n\", matriz_confusion_forest)\n",
    "print(f'Accuracy del modelo (Random Forest): {accuracy_forest:.2f}')\n",
    "\n",
    "\n",
    "\n",
    "print(\"Accuracy del mejor modelo (Randomized):\", accuracy_score(y_test, predicciones_best_forest_random))\n"
   ],
   "metadata": {
    "collapsed": false,
    "ExecuteTime": {
     "end_time": "2024-04-15T05:27:39.625779Z",
     "start_time": "2024-04-15T05:27:25.279240Z"
    }
   },
   "id": "2aea33349ecd88c",
   "execution_count": 738
  },
  {
   "cell_type": "code",
   "outputs": [
    {
     "name": "stdout",
     "output_type": "stream",
     "text": [
      "Importancia de los predictores en el modelo\n",
      "-------------------------------------------\n"
     ]
    },
    {
     "data": {
      "text/plain": "          predictor  importancia\n1   porcentajeCaida     0.593222\n2      totalPercent     0.220141\n3  ValorTransaccion     0.172519\n0        prediction     0.014118",
      "text/html": "<div>\n<style scoped>\n    .dataframe tbody tr th:only-of-type {\n        vertical-align: middle;\n    }\n\n    .dataframe tbody tr th {\n        vertical-align: top;\n    }\n\n    .dataframe thead th {\n        text-align: right;\n    }\n</style>\n<table border=\"1\" class=\"dataframe\">\n  <thead>\n    <tr style=\"text-align: right;\">\n      <th></th>\n      <th>predictor</th>\n      <th>importancia</th>\n    </tr>\n  </thead>\n  <tbody>\n    <tr>\n      <th>1</th>\n      <td>porcentajeCaida</td>\n      <td>0.593222</td>\n    </tr>\n    <tr>\n      <th>2</th>\n      <td>totalPercent</td>\n      <td>0.220141</td>\n    </tr>\n    <tr>\n      <th>3</th>\n      <td>ValorTransaccion</td>\n      <td>0.172519</td>\n    </tr>\n    <tr>\n      <th>0</th>\n      <td>prediction</td>\n      <td>0.014118</td>\n    </tr>\n  </tbody>\n</table>\n</div>"
     },
     "execution_count": 739,
     "metadata": {},
     "output_type": "execute_result"
    }
   ],
   "source": [
    "print(\"Importancia de los predictores en el modelo\")\n",
    "print(\"-------------------------------------------\")\n",
    "importancia_predictores = pd.DataFrame(\n",
    "    {'predictor': forest_model.feature_names_in_,\n",
    "     'importancia': forest_model.feature_importances_}\n",
    ")\n",
    "importancia_predictores.sort_values('importancia', ascending=False)"
   ],
   "metadata": {
    "collapsed": false,
    "ExecuteTime": {
     "end_time": "2024-04-15T05:27:39.694646Z",
     "start_time": "2024-04-15T05:27:39.626200Z"
    }
   },
   "id": "e5d422456c10e149",
   "execution_count": 739
  },
  {
   "cell_type": "markdown",
   "source": [
    "### Predecir si un cliente retirará el 70% o más de sus ahorros en los próximos meses puede ofrecer a un banco una serie de ventajas financieras y estratégicas significativas. Aquí hay algunas de ellas:\n",
    "\n",
    "| Ventajas                   | Description |\n",
    "|----------------------------|-------------|\n",
    "| `Gestión de Riesgos`       | Mejora la capacidad del banco para anticipar y prepararse para los grandes retiros, mejorando la estabilidad y la confianza en el banco. |\n",
    "| `Planificación de Liquidez`| Permite al banco manejar su flujo de caja y reservas de efectivo de manera más eficiente, reduciendo la necesidad de obtener liquidez costosa en el último minuto. |\n",
    "| `Retención de Clientes`    | Ofrece al banco una oportunidad para implementar estrategias proactivas de retención de clientes, ajustando productos y servicios para evitar la salida de fondos. |\n",
    "| `Optimización de Inversiones`| Ayuda al banco a equilibrar su cartera de inversiones para maximizar los rendimientos sin sacrificar la liquidez necesaria para responder a los retiros. |\n",
    "| `Prevención del Fraude`    | Permite identificar comportamientos de retiro inusuales que podrían indicar fraude, lo que protege al cliente y al banco. |\n",
    "| `Capital de Reserva`       | Asegura que el banco cumpla con las regulaciones de capital de reserva más eficientemente, alineando las necesidades de liquidez con los requisitos regulatorios. |\n",
    "| `Estabilidad Financiera`   | Previniendo retiros masivos, la institución mantiene su estabilidad y la del sistema financiero en su conjunto. |\n",
    "| `Segmentación de Mercado`  | Facilita la personalización de la oferta de productos y la comunicación de marketing al comprender la probabilidad de retiro de los clientes. |\n",
    "| `Planificación Estratégica`| Informa decisiones estratégicas del banco en áreas como expansión operativa, inversiones y estrategias de retención de clientes. |\n"
   ],
   "metadata": {
    "collapsed": false
   },
   "id": "83ffa51fc2b2033a"
  },
  {
   "cell_type": "code",
   "outputs": [
    {
     "data": {
      "text/plain": "NroDocum    Contrato  PlanProducto\n1097503608  2032693   3376            57521420.94\n1105297798  2200275   4899             8272368.04\n1113002343  9557745   8404            25719668.61\n1187108348  7044987   8404            84425691.55\n1108520330  3533499   8404            76917717.31\n                                         ...     \n1113253168  3292675   4899            29908682.79\n1130196219  798784    4899                   0.00\n1074554783  6698162   4899            77726154.93\n1146147828  1019994   5172            14263039.89\n1043158374  4104137   5172            23870328.64\nName: posiblesPerdidas, Length: 1452, dtype: float64"
     },
     "execution_count": 743,
     "metadata": {},
     "output_type": "execute_result"
    }
   ],
   "source": [
    "dinero = saldos.copy()\n",
    "\n",
    "dinero = dinero.loc[dinero['activeCases'] == True]\n",
    "dinero = dinero.join(clientes.set_index(\"NroDocum\"), on=\"NroDocum\")\n",
    "dinero['posiblesPerdidas']\n",
    "\n"
   ],
   "metadata": {
    "collapsed": false,
    "ExecuteTime": {
     "end_time": "2024-04-15T06:45:31.132422Z",
     "start_time": "2024-04-15T06:45:31.100887Z"
    }
   },
   "id": "a51c44e95c26b85",
   "execution_count": 743
  },
  {
   "cell_type": "code",
   "outputs": [],
   "source": [],
   "metadata": {
    "collapsed": false,
    "ExecuteTime": {
     "end_time": "2024-04-15T05:27:39.711518Z",
     "start_time": "2024-04-15T05:27:39.676355Z"
    }
   },
   "id": "991c9c853201f740",
   "execution_count": 740
  }
 ],
 "metadata": {
  "kernelspec": {
   "display_name": "Python 3",
   "language": "python",
   "name": "python3"
  },
  "language_info": {
   "codemirror_mode": {
    "name": "ipython",
    "version": 2
   },
   "file_extension": ".py",
   "mimetype": "text/x-python",
   "name": "python",
   "nbconvert_exporter": "python",
   "pygments_lexer": "ipython2",
   "version": "2.7.6"
  }
 },
 "nbformat": 4,
 "nbformat_minor": 5
}
